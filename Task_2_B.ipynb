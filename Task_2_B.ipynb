{
  "nbformat": 4,
  "nbformat_minor": 0,
  "metadata": {
    "colab": {
      "provenance": []
    },
    "kernelspec": {
      "name": "python3",
      "display_name": "Python 3"
    },
    "language_info": {
      "name": "python"
    }
  },
  "cells": [
    {
      "cell_type": "code",
      "execution_count": 2,
      "metadata": {
        "colab": {
          "base_uri": "https://localhost:8080/"
        },
        "id": "Ey_-eCGcMTXu",
        "outputId": "7b72470e-fee8-49aa-a051-a361c9346b3d"
      },
      "outputs": [
        {
          "output_type": "stream",
          "name": "stdout",
          "text": [
            "4\n",
            "1 3 5 7\n",
            "4\n",
            "2 2 4 8\n",
            "1 2 2 3 4 5 7 8\n"
          ]
        }
      ],
      "source": [
        "def MergeSortedArrays(t1, arr1, t2, arr2):\n",
        "    r=[]\n",
        "    x=0\n",
        "    y=0\n",
        "\n",
        "    while x<t1 and y<t2:\n",
        "        if arr1[x] < arr2[y]:\n",
        "            r.append(arr1[x])\n",
        "        else:\n",
        "            r.append(arr2[y])\n",
        "        if arr1[x]<arr2[y]:\n",
        "            x+= 1\n",
        "        else:\n",
        "            y+= 1\n",
        "\n",
        "    r+=arr1[x:]+arr2[y:]\n",
        "    return r\n",
        "\n",
        "t1 = int(input())\n",
        "arr1 = list(map(int, input().split()))\n",
        "\n",
        "t2 = int(input())\n",
        "arr2 = list(map(int, input().split()))\n",
        "\n",
        "result = MergeSortedArrays(t1, arr1, t2, arr2)\n",
        "print(\" \".join(map(str, result)))"
      ]
    }
  ]
}