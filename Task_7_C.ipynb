{
  "cells": [
    {
      "cell_type": "code",
      "execution_count": 21,
      "metadata": {
        "colab": {
          "base_uri": "https://localhost:8080/"
        },
        "id": "HPhe-B6wYPNr",
        "outputId": "92173b9b-0462-4629-f229-40b2b38f31c3"
      },
      "outputs": [
        {
          "output_type": "stream",
          "name": "stdout",
          "text": [
            "2 1\n",
            "2 1 5\n",
            "0 5\n"
          ]
        }
      ],
      "source": [
        "import heapq\n",
        "\n",
        "def Minimize(graph, start):\n",
        "    pqueue = []\n",
        "    heapq.heappush(pqueue, (0, start))\n",
        "    max_dis = [-1] * len(graph)\n",
        "    v = [False] * len(graph)\n",
        "    max_dis[start] = 0\n",
        "\n",
        "    while pqueue:\n",
        "        cw, cn = heapq.heappop(pqueue)\n",
        "        for n, w in graph[cn]:\n",
        "            if not v[n]:\n",
        "                max_path = max(w, max_dis[cn])\n",
        "                if max_path < max_dis[n] or max_dis[n] == -1:\n",
        "                    max_dis[n] = max_path\n",
        "                    heapq.heappush(pqueue, (max_dis[n], n))\n",
        "\n",
        "        v[cn] = True\n",
        "\n",
        "    return max_dis\n",
        "\n",
        "def adjl(nn, ne):\n",
        "    adj_li = [[] for i in range(nn + 1)]\n",
        "\n",
        "    for x in range(ne):\n",
        "        n1, n2, w = map(int, input().split())\n",
        "        adj_li[n1].append((n2, w))\n",
        "        adj_li[n2].append((n1, w))\n",
        "\n",
        "    return adj_li\n",
        "\n",
        "nn, ne = map(int, input().split())\n",
        "graph = adjl(nn, ne)\n",
        "max_dis = [-1] * (nn + 1)\n",
        "v = [False] * (nn + 1)\n",
        "rd = Minimize(graph, 1)\n",
        "rp = rd[1:]\n",
        "\n",
        "print(\" \".join(map(str, rp)))\n"
      ]
    }
  ],
  "metadata": {
    "colab": {
      "provenance": []
    },
    "kernelspec": {
      "display_name": "Python 3",
      "name": "python3"
    },
    "language_info": {
      "name": "python"
    }
  },
  "nbformat": 4,
  "nbformat_minor": 0
}