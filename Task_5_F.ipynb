{
  "cells": [
    {
      "cell_type": "code",
      "execution_count": 5,
      "metadata": {
        "colab": {
          "base_uri": "https://localhost:8080/"
        },
        "id": "HPhe-B6wYPNr",
        "outputId": "b86e4363-cbf9-4d03-e33f-64906b3e0947"
      },
      "outputs": [
        {
          "output_type": "stream",
          "name": "stdout",
          "text": [
            "1 5\n",
            "D....\n",
            "1\n"
          ]
        }
      ],
      "source": [
        "from collections import deque\n",
        "def diamonds(R,C):\n",
        "  t = [[0 for i in range(C)] for j in range(R)]\n",
        "  visited = [[False for i in range(C)] for j in range (R)]\n",
        "  D = 0\n",
        "  for i in range (R):\n",
        "    inp = input()\n",
        "    for j in range(C):\n",
        "      t[i][j] = inp[j]\n",
        "  for i in range (R):\n",
        "    for j in range(C):\n",
        "      if visited[i][j] != True and t[i][j] != \"#\":\n",
        "        var = bfstraverse(t,visited,i,j,R,C)\n",
        "        D = max(D,var)\n",
        "  print(D)\n",
        "def bfstraverse(t,visited,x,y,row,col):\n",
        "  queue = deque()\n",
        "  queue.append((x,y))\n",
        "  visited[x][y] = True\n",
        "  cnt = 0\n",
        "  pos = [(-1,0),(1,0),(0,-1),(0,1)]\n",
        "  if t[x][y] == \"D\":\n",
        "    cnt +=1\n",
        "  while queue:\n",
        "    a,b = queue.popleft()\n",
        "    for i,j in pos:\n",
        "      mx = a+i\n",
        "      my = b+j\n",
        "      if 0 <= mx < row and 0 <= my < col and t[mx][my] != \"#\":\n",
        "        if visited[mx][my] != True:\n",
        "          visited[mx][my] = True\n",
        "          queue.append((mx,my))\n",
        "          if t[mx][my] == \"D\":\n",
        "            cnt +=1\n",
        "  return cnt\n",
        "\n",
        "R,C= map(int,input().split())\n",
        "diamonds(R,C)"
      ]
    }
  ],
  "metadata": {
    "colab": {
      "provenance": []
    },
    "kernelspec": {
      "display_name": "Python 3",
      "name": "python3"
    },
    "language_info": {
      "name": "python"
    }
  },
  "nbformat": 4,
  "nbformat_minor": 0
}