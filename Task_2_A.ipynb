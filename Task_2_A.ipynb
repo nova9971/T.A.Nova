{
  "nbformat": 4,
  "nbformat_minor": 0,
  "metadata": {
    "colab": {
      "provenance": []
    },
    "kernelspec": {
      "name": "python3",
      "display_name": "Python 3"
    },
    "language_info": {
      "name": "python"
    }
  },
  "cells": [
    {
      "cell_type": "code",
      "execution_count": 1,
      "metadata": {
        "colab": {
          "base_uri": "https://localhost:8080/"
        },
        "id": "Ey_-eCGcMTXu",
        "outputId": "59aaad9f-dfdb-4301-f798-9f8a17036b90"
      },
      "outputs": [
        {
          "output_type": "stream",
          "name": "stdout",
          "text": [
            "4 10\n",
            "1 3 5 7\n",
            "2 4\n"
          ]
        }
      ],
      "source": [
        "def TwoSumTrouble(N, tr, arr):\n",
        "    num_map = {}\n",
        "    for x in range(len(arr)):\n",
        "        num=arr[x]\n",
        "        diff = tr - num\n",
        "        if diff in num_map:\n",
        "            return f\"{num_map[diff]} {x + 1}\"\n",
        "        num_map[num] = x + 1\n",
        "    return -1\n",
        "\n",
        "N, S = map(int, input().split())\n",
        "arr = list(map(int, input().split()))\n",
        "print(TwoSumTrouble(N, S, arr))"
      ]
    }
  ]
}