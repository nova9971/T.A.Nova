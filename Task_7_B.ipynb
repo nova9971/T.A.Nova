{
  "cells": [
    {
      "cell_type": "code",
      "execution_count": 20,
      "metadata": {
        "colab": {
          "base_uri": "https://localhost:8080/"
        },
        "id": "HPhe-B6wYPNr",
        "outputId": "b2f957ac-6d68-43d5-afea-a9e221846167"
      },
      "outputs": [
        {
          "output_type": "stream",
          "name": "stdout",
          "text": [
            "2 1 2 2\n",
            "2 1 7\n",
            "0 2\n"
          ]
        }
      ],
      "source": [
        "import heapq\n",
        "\n",
        "def Meet(adj_li, start, n):\n",
        "    dis = [float('inf')] * (n + 1)\n",
        "    p = [-1] * (n + 1)\n",
        "    dis[start] = 0\n",
        "    pqueue = []\n",
        "\n",
        "    heapq.heappush(pqueue, (0, start))\n",
        "\n",
        "    while pqueue:\n",
        "        cd, cn = heapq.heappop(pqueue)\n",
        "\n",
        "\n",
        "        for ne, w in adj_li[cn]:\n",
        "            if cd + w < dis[ne]:\n",
        "                dis[ne] = cd + w\n",
        "                p[ne] = cn\n",
        "                heapq.heappush(pqueue, (dis[ne], ne))\n",
        "\n",
        "    return dis\n",
        "\n",
        "def adl(n, e):\n",
        "    adj_li = [[] for i in range(n + 1)]\n",
        "\n",
        "    for x in range(e):\n",
        "        start, end, w = map(int, input().split())\n",
        "        adj_li[start].append((end, w))\n",
        "\n",
        "    return adj_li\n",
        "\n",
        "\n",
        "n, e, start, t = map(int, input().split())\n",
        "\n",
        "graph = adl(n, e)\n",
        "\n",
        "\n",
        "dis_start = Meet(graph, start, n)\n",
        "dis_t = Meet(graph, t, n)\n",
        "\n",
        "\n",
        "min_max_dis = float('inf')\n",
        "mp = -1\n",
        "\n",
        "for i in range(1, n + 1):\n",
        "    if dis_start[i] != float('inf') and dis_t[i] != float('inf'):\n",
        "        max_dis = max(dis_start[i], dis_t[i])\n",
        "        if max_dis < min_max_dis:\n",
        "            min_max_dis = max_dis\n",
        "            mp = i\n",
        "        elif max_dis == min_max_dis:\n",
        "            if i < mp:\n",
        "                mp = i\n",
        "\n",
        "\n",
        "if mp == -1:\n",
        "    print(-1)\n",
        "else:\n",
        "    print(min_max_dis, mp)"
      ]
    }
  ],
  "metadata": {
    "colab": {
      "provenance": []
    },
    "kernelspec": {
      "display_name": "Python 3",
      "name": "python3"
    },
    "language_info": {
      "name": "python"
    }
  },
  "nbformat": 4,
  "nbformat_minor": 0
}