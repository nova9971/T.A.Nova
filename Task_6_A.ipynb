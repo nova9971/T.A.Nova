{
  "cells": [
    {
      "cell_type": "code",
      "execution_count": 6,
      "metadata": {
        "colab": {
          "base_uri": "https://localhost:8080/"
        },
        "id": "HPhe-B6wYPNr",
        "outputId": "29f09a50-ee62-4ed2-c40c-19e7a9c9b85f"
      },
      "outputs": [
        {
          "output_type": "stream",
          "name": "stdout",
          "text": [
            "2 1\n",
            "1 2\n",
            "1 2\n"
          ]
        }
      ],
      "source": [
        "import sys\n",
        "sys.setrecursionlimit(2 * 100000 + 5)\n",
        "\n",
        "def dfs_traverse(node, graph, clr):\n",
        "    clr[node] = 1\n",
        "    for x in graph[node]:\n",
        "        if clr[x] == 0:\n",
        "            if dfs_traverse(x, graph, clr)==True:\n",
        "                return True\n",
        "        elif clr[x] == 1:\n",
        "            return True\n",
        "\n",
        "    clr[node] = 2\n",
        "    tp_order.append(node)\n",
        "    return False\n",
        "\n",
        "def build_graph(n, e):\n",
        "    graph = [[] for i in range(n + 1)]\n",
        "    for y in range(e):\n",
        "        start, end = map(int, input().split())\n",
        "        graph[start].append(end)\n",
        "    for k in graph:\n",
        "        k.sort()\n",
        "    return graph\n",
        "\n",
        "n, e = map(int, input().split())\n",
        "graph = build_graph(n, e)\n",
        "\n",
        "clr = [0] * (n + 1)\n",
        "ck = False\n",
        "tp_order = []\n",
        "for l in range(1, n + 1):\n",
        "    if clr [l] == 0:\n",
        "        if dfs_traverse (l, graph, clr):\n",
        "            ck = True\n",
        "            break\n",
        "\n",
        "if ck==True:\n",
        "    print(-1)\n",
        "else:\n",
        "    tp_order.reverse()\n",
        "    print(\" \".join(map(str, tp_order)))"
      ]
    }
  ],
  "metadata": {
    "colab": {
      "provenance": []
    },
    "kernelspec": {
      "display_name": "Python 3",
      "name": "python3"
    },
    "language_info": {
      "name": "python"
    }
  },
  "nbformat": 4,
  "nbformat_minor": 0
}