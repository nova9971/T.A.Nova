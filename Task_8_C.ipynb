{
  "cells": [
    {
      "cell_type": "code",
      "execution_count": 27,
      "metadata": {
        "colab": {
          "base_uri": "https://localhost:8080/"
        },
        "id": "HPhe-B6wYPNr",
        "outputId": "123add33-1709-452d-94f6-f6af7dd8c3fe"
      },
      "outputs": [
        {
          "output_type": "stream",
          "name": "stdout",
          "text": [
            "6 7\n",
            "1 2 1\n",
            "2 3 2\n",
            "3 1 3\n",
            "1 4 5\n",
            "4 5 4\n",
            "5 6 5\n",
            "6 4 5\n",
            "18\n"
          ]
        }
      ],
      "source": [
        "import sys\n",
        "sys.setrecursionlimit(2 * 100000 + 5)\n",
        "\n",
        "def FindLeader(x, p):\n",
        "    if p[x] != x:\n",
        "        p[x] = FindLeader(p[x], p)\n",
        "    return p[x]\n",
        "\n",
        "def United(x, y, p, s):\n",
        "    nx = FindLeader(x, p)\n",
        "    ny = FindLeader(y, p)\n",
        "    if nx != ny:\n",
        "        if s[nx] < s[ny]:\n",
        "            p[nx] = ny\n",
        "            s[ny] += s[nx]\n",
        "        else:\n",
        "            p[ny] = nx\n",
        "            s[nx] += s[ny]\n",
        "        return True\n",
        "    return False\n",
        "\n",
        "def mst(n, e, skip=None, fe=None):\n",
        "    p = [i for i in range(n + 1)]\n",
        "    s = [1] * (n + 1)\n",
        "    c = 0\n",
        "    cnt = 0\n",
        "    u = []\n",
        "\n",
        "    if fe!=None:\n",
        "        w, start, end, idx = fe\n",
        "        if United(start, end, p, s):\n",
        "            c += w\n",
        "            cnt += 1\n",
        "            u.append(idx)\n",
        "\n",
        "    for i in range(len(e)):\n",
        "        if i == skip:\n",
        "            continue\n",
        "        w, start, end, idx = e[i]\n",
        "        if United(start, end, p, s):\n",
        "            c += w\n",
        "            cnt += 1\n",
        "            u.append(idx)\n",
        "        if cnt == n - 1:\n",
        "            break\n",
        "\n",
        "    if cnt == n - 1:\n",
        "        return c, u\n",
        "    else:\n",
        "        return float('inf'), []\n",
        "\n",
        "n, m = map(int, input().split())\n",
        "ed = []\n",
        "for i in range(m):\n",
        "    start, end, w = map(int, input().split())\n",
        "    ed.append((w, start, end, i))\n",
        "\n",
        "ed.sort()\n",
        "\n",
        "fc, se = mst(n, ed)\n",
        "ss = set(se)\n",
        "snd = float('inf')\n",
        "for i in range(len(ed)):\n",
        "    if ed[i][3] in ss:\n",
        "        c, _ = mst(n, ed, skip=i)\n",
        "        if fc < c < snd:\n",
        "            snd = c\n",
        "\n",
        "for i in range(len(ed)):\n",
        "    if ed[i][3] not in ss:\n",
        "        c, _ = mst(n, ed, fe=ed[i])\n",
        "        if fc < c < snd:\n",
        "            snd = c\n",
        "\n",
        "if snd == float('inf'):\n",
        "    print(-1)\n",
        "else:\n",
        "    print(snd)"
      ]
    }
  ],
  "metadata": {
    "colab": {
      "provenance": []
    },
    "kernelspec": {
      "display_name": "Python 3",
      "name": "python3"
    },
    "language_info": {
      "name": "python"
    }
  },
  "nbformat": 4,
  "nbformat_minor": 0
}