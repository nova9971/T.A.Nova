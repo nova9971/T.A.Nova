{
  "nbformat": 4,
  "nbformat_minor": 0,
  "metadata": {
    "colab": {
      "provenance": []
    },
    "kernelspec": {
      "name": "python3",
      "display_name": "Python 3"
    },
    "language_info": {
      "name": "python"
    }
  },
  "cells": [
    {
      "cell_type": "code",
      "execution_count": 5,
      "metadata": {
        "colab": {
          "base_uri": "https://localhost:8080/"
        },
        "id": "HPhe-B6wYPNr",
        "outputId": "7ce5e30f-151e-4a46-b467-731d1eac9ab7"
      },
      "outputs": [
        {
          "output_type": "stream",
          "name": "stdout",
          "text": [
            "5\n",
            "3 2 1 4 5\n",
            "1 2 3 4 5\n"
          ]
        }
      ],
      "source": [
        "def bubbleSort(arr):\n",
        "    for i in range(len(arr)-1):\n",
        "        flag = False\n",
        "        for j in range(len(arr)-i-1):\n",
        "            if arr[j] > arr[j+1]:\n",
        "                arr[j], arr[j+1] = arr[j+1], arr[j]\n",
        "                flag = True\n",
        "        if flag != True:\n",
        "            break\n",
        "        else:\n",
        "            continue\n",
        "    return arr\n",
        "a = int(input())\n",
        "arr=list(map(int,input().split()))\n",
        "b=bubbleSort(arr)\n",
        "print(\" \".join(map(str,b)))"
      ]
    }
  ]
}