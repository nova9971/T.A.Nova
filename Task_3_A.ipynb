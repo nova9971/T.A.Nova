{
  "nbformat": 4,
  "nbformat_minor": 0,
  "metadata": {
    "colab": {
      "provenance": []
    },
    "kernelspec": {
      "name": "python3",
      "display_name": "Python 3"
    },
    "language_info": {
      "name": "python"
    }
  },
  "cells": [
    {
      "cell_type": "code",
      "execution_count": 6,
      "metadata": {
        "colab": {
          "base_uri": "https://localhost:8080/"
        },
        "id": "Ey_-eCGcMTXu",
        "outputId": "1f40003e-4c3f-4d63-a00b-3ce5f8802f6c"
      },
      "outputs": [
        {
          "output_type": "stream",
          "name": "stdout",
          "text": [
            "3\n",
            "1 2 5 4 3\n",
            "3\n",
            "1 2 3 4 5\n"
          ]
        }
      ],
      "source": [
        "def merge(a, b):\n",
        "    x, y, swaps = 0, 0, 0\n",
        "    r = []\n",
        "\n",
        "    while x < len(a) and y < len(b):\n",
        "        if a[x] <= b[y]:\n",
        "            r.append(a[x])\n",
        "            x += 1\n",
        "        else:\n",
        "            r.append(b[y])\n",
        "            swaps += len(a) - x\n",
        "            y += 1\n",
        "\n",
        "    r.extend(a[x:])\n",
        "    r.extend(b[y:])\n",
        "    return r, swaps\n",
        "\n",
        "def mergeSort(arr):\n",
        "    if len(arr) <= 1:\n",
        "        return arr, 0\n",
        "\n",
        "    mid = len(arr) // 2\n",
        "    a1, swaps1 = mergeSort(arr[:mid])\n",
        "    a2, swaps2 = mergeSort(arr[mid:])\n",
        "\n",
        "    merged, swaps_merge = merge(a1, a2)\n",
        "    total_swaps = swaps1 + swaps2 + swaps_merge\n",
        "\n",
        "    return merged, total_swaps\n",
        "\n",
        "size = int(input())\n",
        "num = list(map(int, input().split()))\n",
        "num1, swap = mergeSort(num)\n",
        "print(swap)\n",
        "print(*num1)\n"
      ]
    }
  ]
}