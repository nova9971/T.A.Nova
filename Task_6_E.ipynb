{
  "cells": [
    {
      "cell_type": "code",
      "execution_count": 18,
      "metadata": {
        "colab": {
          "base_uri": "https://localhost:8080/"
        },
        "id": "HPhe-B6wYPNr",
        "outputId": "4fff1f89-dc51-4f45-cd2b-9443d1250d61"
      },
      "outputs": [
        {
          "output_type": "stream",
          "name": "stdout",
          "text": [
            "5\n",
            "5 1\n",
            "1 4\n",
            "4 2\n",
            "3 2\n",
            "4\n",
            "3 5\n"
          ]
        }
      ],
      "source": [
        "from collections import deque\n",
        "\n",
        "def bfs(graph, start_node):\n",
        "    di = [-1] * (len(graph))\n",
        "    di[start_node] = 0\n",
        "    queue = deque([start_node])\n",
        "    farthest_node = start_node\n",
        "    max_di = 0\n",
        "\n",
        "    while queue:\n",
        "        current = queue.popleft()\n",
        "        for n in graph[current]:\n",
        "            if di[n] == -1:\n",
        "                di[n] = di[current] + 1\n",
        "                queue.append(n)\n",
        "\n",
        "            if di[n] > max_di:\n",
        "                max_di = di[n]\n",
        "                farthest_node = n\n",
        "\n",
        "    return farthest_node, max_di, di\n",
        "\n",
        "\n",
        "def build_graph(n, e):\n",
        "    graph = [[] for i in range(n + 1)]\n",
        "    for i in range(e):\n",
        "        start, end = map(int, input().split())\n",
        "        graph[start].append(end)\n",
        "        graph[end].append(start)\n",
        "    return graph\n",
        "\n",
        "\n",
        "def calculate_diameter(n):\n",
        "    graph = build_graph(n, n - 1)\n",
        "    f1, dia1, dis1 = bfs(graph, 1)\n",
        "    f2, dia2, dis2 = bfs(graph, f1)\n",
        "\n",
        "    current_node = f2\n",
        "    while current_node != f1:\n",
        "        path.append(current_node)\n",
        "        for x in graph[current_node]:\n",
        "            if dis2[x] == dis2[current_node] - 1:\n",
        "                current_node = x\n",
        "                break\n",
        "    path.append(f1)\n",
        "    path.reverse()\n",
        "\n",
        "    return dia2\n",
        "\n",
        "\n",
        "num = int(input())\n",
        "path = []\n",
        "diameter = calculate_diameter(num)\n",
        "print(diameter)\n",
        "print(f\"{path[0]} {path[len(path)-1]}\")"
      ]
    }
  ],
  "metadata": {
    "colab": {
      "provenance": []
    },
    "kernelspec": {
      "display_name": "Python 3",
      "name": "python3"
    },
    "language_info": {
      "name": "python"
    }
  },
  "nbformat": 4,
  "nbformat_minor": 0
}