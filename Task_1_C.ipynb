{
  "nbformat": 4,
  "nbformat_minor": 0,
  "metadata": {
    "colab": {
      "provenance": []
    },
    "kernelspec": {
      "name": "python3",
      "display_name": "Python 3"
    },
    "language_info": {
      "name": "python"
    }
  },
  "cells": [
    {
      "cell_type": "code",
      "execution_count": 3,
      "metadata": {
        "colab": {
          "base_uri": "https://localhost:8080/"
        },
        "id": "HPhe-B6wYPNr",
        "outputId": "ae26a2c9-c18a-428e-c125-448544e6ddf0"
      },
      "outputs": [
        {
          "output_type": "stream",
          "name": "stdout",
          "text": [
            "5 3\n",
            "5 6 7 8 9\n",
            "7 6 5\n"
          ]
        }
      ],
      "source": [
        "a,b=input().split()\n",
        "arr = list(map(int, input().split()))\n",
        "rev = arr[::-1]\n",
        "rev = rev[int(a)-int(b)::]\n",
        "print(\" \".join(map(str,rev)))"
      ]
    }
  ]
}