{
  "nbformat": 4,
  "nbformat_minor": 0,
  "metadata": {
    "colab": {
      "provenance": []
    },
    "kernelspec": {
      "name": "python3",
      "display_name": "Python 3"
    },
    "language_info": {
      "name": "python"
    }
  },
  "cells": [
    {
      "cell_type": "code",
      "execution_count": 9,
      "metadata": {
        "colab": {
          "base_uri": "https://localhost:8080/"
        },
        "id": "Ey_-eCGcMTXu",
        "outputId": "80806e69-8056-4bd4-b779-fa0b7d95bef8"
      },
      "outputs": [
        {
          "output_type": "stream",
          "name": "stdout",
          "text": [
            "3\n",
            "2 5 1000\n",
            "62\n",
            "2 9 1000\n",
            "22\n",
            "1 100 30\n",
            "10\n"
          ]
        }
      ],
      "source": [
        "def FastMod(base, exp, mod):\n",
        "    rslt = 1\n",
        "    base = base % mod\n",
        "    while exp > 0:\n",
        "        if exp % 2 == 1:\n",
        "            rslt = (rslt * base) % mod\n",
        "        base = (base * base) % mod\n",
        "        exp //= 2\n",
        "    return rslt\n",
        "\n",
        "def ModularDrift(base, pow, mod):\n",
        "    if pow == 1:\n",
        "        return base % mod\n",
        "    if pow % 2 == 0:\n",
        "        half = ModularDrift(base, pow // 2, mod)\n",
        "        return (half + FastMod(base, pow // 2, mod) * half) % mod\n",
        "    return (base + base * ModularDrift(base, pow - 1, mod)) % mod\n",
        "\n",
        "n = int(input())\n",
        "for i in range(n):\n",
        "    base, pow, mod = map(int, input().split())\n",
        "    print(ModularDrift(base, pow, mod))"
      ]
    }
  ]
}