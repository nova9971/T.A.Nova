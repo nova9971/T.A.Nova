{
  "cells": [
    {
      "cell_type": "code",
      "execution_count": 8,
      "metadata": {
        "colab": {
          "base_uri": "https://localhost:8080/"
        },
        "id": "HPhe-B6wYPNr",
        "outputId": "4cc56860-af1f-4dc9-f7d9-34014970aa23"
      },
      "outputs": [
        {
          "output_type": "stream",
          "name": "stdout",
          "text": [
            "3\n",
            "1 2 1 3\n",
            "3\n"
          ]
        }
      ],
      "source": [
        "from collections import deque\n",
        "def chess_knight(n, x1, y1, x2, y2):\n",
        "    if x1 == x2 and y1 == y2:\n",
        "        return 0\n",
        "    m= [(-2, -1), (-2, 1), (-1, -2), (-1, 2), (1, -2), (1, 2), (2, -1), (2, 1)]\n",
        "    queue= deque()\n",
        "    queue.append((x1, y1))\n",
        "    d = [[-1] * (n + 1) for _ in range(n + 1)]\n",
        "    d[x1][y1] = 0\n",
        "    while queue:\n",
        "        x, y = queue.popleft()\n",
        "        for dx, dy in m:\n",
        "            nx, ny = x + dx, y + dy\n",
        "            if 1 <= nx <= n and 1 <= ny <= n and d[nx][ny] == -1:\n",
        "                d[nx][ny] = d[x][y] + 1\n",
        "                if nx == x2 and ny == y2:\n",
        "                    return d[nx][ny]\n",
        "                queue.append((nx, ny))\n",
        "    return -1\n",
        "n= int(input())\n",
        "x1, y1, x2, y2 = map(int, input().split())\n",
        "print(chess_knight(n, x1, y1, x2, y2))"
      ]
    }
  ],
  "metadata": {
    "colab": {
      "provenance": []
    },
    "kernelspec": {
      "display_name": "Python 3",
      "name": "python3"
    },
    "language_info": {
      "name": "python"
    }
  },
  "nbformat": 4,
  "nbformat_minor": 0
}