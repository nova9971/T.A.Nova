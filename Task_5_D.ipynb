{
  "cells": [
    {
      "cell_type": "code",
      "execution_count": 3,
      "metadata": {
        "colab": {
          "base_uri": "https://localhost:8080/"
        },
        "id": "HPhe-B6wYPNr",
        "outputId": "8c969508-5f60-4864-9490-0bacd1bc3851"
      },
      "outputs": [
        {
          "output_type": "stream",
          "name": "stdout",
          "text": [
            "5 4 2 5 3\n",
            "5 1\n",
            "3 1\n",
            "2 3\n",
            "2 4\n",
            "-1\n"
          ]
        }
      ],
      "source": [
        "from collections import deque\n",
        "def bfstraverse (N,M,S,D,adlis):\n",
        "  adjli = adlis\n",
        "  visited = [0]*(N+1)\n",
        "  par = [-1]*(N+1)\n",
        "  queue = deque([S])\n",
        "  visited[S]= 1\n",
        "  while queue:\n",
        "    s = queue.popleft()\n",
        "    if s == D:\n",
        "      break\n",
        "    for i in adjli[s]:\n",
        "      if visited[i] != 1:\n",
        "        visited[i] = 1\n",
        "        par[i] = s\n",
        "        queue.append(i)\n",
        "  if visited[D] != 1:\n",
        "    return -1\n",
        "  l1 = []\n",
        "  crnt = D\n",
        "  while crnt != -1:\n",
        "    l1.append(crnt)\n",
        "    crnt = par[crnt]\n",
        "  l1.reverse()\n",
        "  return l1\n",
        "def adlis(N,M):\n",
        "  adjli = [[] for _ in range(N+1)]\n",
        "  for i in range(M):\n",
        "    start,end = map(int,input().split())\n",
        "    adjli[start].append(end)\n",
        "  for i in adjli:\n",
        "    i.sort()\n",
        "  return adjli\n",
        "\n",
        "def jungle(N,M,S,D,K):\n",
        "  adjli = adlis(N,M)\n",
        "  a = bfstraverse(N,M,S,K,adjli)\n",
        "  if a == -1:\n",
        "    print(-1)\n",
        "    return\n",
        "  b = bfstraverse(N,M,K,D,adjli)\n",
        "  if b == -1:\n",
        "    print(-1)\n",
        "    return\n",
        "  b = b[1:]\n",
        "  a.extend(b)\n",
        "  print(len(a)-1)\n",
        "\n",
        "  print(\" \".join(map(str,a)))\n",
        "\n",
        "N,M,S,D,K= map(int,input().split())\n",
        "a=jungle(N,M,S,D,K)"
      ]
    }
  ],
  "metadata": {
    "colab": {
      "provenance": []
    },
    "kernelspec": {
      "display_name": "Python 3",
      "name": "python3"
    },
    "language_info": {
      "name": "python"
    }
  },
  "nbformat": 4,
  "nbformat_minor": 0
}