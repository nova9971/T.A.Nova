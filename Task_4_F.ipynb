{
  "nbformat": 4,
  "nbformat_minor": 0,
  "metadata": {
    "colab": {
      "provenance": []
    },
    "kernelspec": {
      "name": "python3",
      "display_name": "Python 3"
    },
    "language_info": {
      "name": "python"
    }
  },
  "cells": [
    {
      "cell_type": "code",
      "execution_count": 7,
      "metadata": {
        "colab": {
          "base_uri": "https://localhost:8080/"
        },
        "id": "Ey_-eCGcMTXu",
        "outputId": "9e195bf3-1f13-40fc-ef1d-2908196fa6f4"
      },
      "outputs": [
        {
          "output_type": "stream",
          "name": "stdout",
          "text": [
            "8\n",
            "1 2\n",
            "5\n",
            "1 1\n",
            "1 3\n",
            "2 1\n",
            "2 2\n",
            "2 3\n"
          ]
        }
      ],
      "source": [
        "def konig(n):\n",
        "    x,y = map(int, input().split())\n",
        "    movelist = [(x-1,y-1),(x-1,y),(x-1,y+1),(x,y-1),(x,y+1),(x+1,y-1),(x+1,y),(x+1,y+1)]\n",
        "    finalist = []\n",
        "    count = 0\n",
        "    for a,b in movelist:\n",
        "        if 1<=a<=n and 1<=b<=n:\n",
        "            count+=1\n",
        "            finalist.append((a,b))\n",
        "\n",
        "    print(count)\n",
        "    for i,j in finalist:\n",
        "        print(f\"{i} {j}\")\n",
        "\n",
        "n = int(input())\n",
        "konig(n)"
      ]
    }
  ]
}