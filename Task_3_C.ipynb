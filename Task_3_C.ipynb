{
  "nbformat": 4,
  "nbformat_minor": 0,
  "metadata": {
    "colab": {
      "provenance": []
    },
    "kernelspec": {
      "name": "python3",
      "display_name": "Python 3"
    },
    "language_info": {
      "name": "python"
    }
  },
  "cells": [
    {
      "cell_type": "code",
      "execution_count": 8,
      "metadata": {
        "colab": {
          "base_uri": "https://localhost:8080/"
        },
        "id": "Ey_-eCGcMTXu",
        "outputId": "bd40b94c-802d-4dc5-9b0d-b22e14cf4196"
      },
      "outputs": [
        {
          "output_type": "stream",
          "name": "stdout",
          "text": [
            "100 3\n",
            "85\n"
          ]
        }
      ],
      "source": [
        "def FastModDrift(base, exp, mod):\n",
        "    rslt = 1\n",
        "    base = base % mod\n",
        "\n",
        "    while exp > 0:\n",
        "        if exp % 2 == 1:\n",
        "            rslt = (rslt * base) % mod\n",
        "        exp //= 2\n",
        "        base = (base * base) % mod\n",
        "\n",
        "    return rslt\n",
        "\n",
        "m, n = map(int, input().split())\n",
        "mod = 107\n",
        "\n",
        "print(FastModDrift(m, n, mod))"
      ]
    }
  ]
}