{
  "nbformat": 4,
  "nbformat_minor": 0,
  "metadata": {
    "colab": {
      "provenance": []
    },
    "kernelspec": {
      "name": "python3",
      "display_name": "Python 3"
    },
    "language_info": {
      "name": "python"
    }
  },
  "cells": [
    {
      "cell_type": "code",
      "execution_count": 4,
      "metadata": {
        "colab": {
          "base_uri": "https://localhost:8080/"
        },
        "id": "Ey_-eCGcMTXu",
        "outputId": "2314d162-8780-4cad-cbcc-9bfd24a7b440"
      },
      "outputs": [
        {
          "output_type": "stream",
          "name": "stdout",
          "text": [
            "15\n",
            "0000011111111\n",
            "6\n",
            "00000111111111\n",
            "6\n",
            "00000\n",
            "-1\n",
            "0000\n",
            "-1\n",
            "1111\n",
            "1\n",
            "111\n",
            "1\n",
            "0\n",
            "-1\n",
            "1\n",
            "1\n",
            "01\n",
            "2\n",
            "01111\n",
            "2\n",
            "000000000000001\n",
            "15\n",
            "0000000000000001\n",
            "16\n",
            "0000000000000111111111111111111111\n",
            "14\n",
            "00000001111111111111111\n",
            "8\n",
            "0000000111111111111111111111111111\n",
            "8\n"
          ]
        }
      ],
      "source": [
        "def BinaryString(a):\n",
        "    left = 0\n",
        "    right = len(a) - 1\n",
        "    rslt = -1\n",
        "\n",
        "    while left <= right:\n",
        "        mid = (left + right) // 2\n",
        "        if a[mid] == '1':\n",
        "            rslt = mid + 1\n",
        "            right = mid - 1\n",
        "        else:\n",
        "            left = mid + 1\n",
        "\n",
        "    return rslt\n",
        "\n",
        "n = int(input())\n",
        "for x in range(n):\n",
        "    user_input = input()\n",
        "    print(BinaryString(user_input))"
      ]
    }
  ]
}