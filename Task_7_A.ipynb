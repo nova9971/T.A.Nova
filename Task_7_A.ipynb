{
  "cells": [
    {
      "cell_type": "code",
      "execution_count": 19,
      "metadata": {
        "colab": {
          "base_uri": "https://localhost:8080/"
        },
        "id": "HPhe-B6wYPNr",
        "outputId": "c64706a5-a0ac-4b1c-b54a-a94a8e591103"
      },
      "outputs": [
        {
          "output_type": "stream",
          "name": "stdout",
          "text": [
            "2 1 2 1\n",
            "2\n",
            "1\n",
            "7\n",
            "7\n",
            "2 1\n"
          ]
        }
      ],
      "source": [
        "import heapq\n",
        "\n",
        "def dijkstra(graph, s, d):\n",
        "    pqueue = []\n",
        "    heapq.heappush(pqueue, (0, s))\n",
        "    dis[s] = 0\n",
        "\n",
        "    while pqueue:\n",
        "        cw, cn = heapq.heappop(pqueue)\n",
        "\n",
        "        if cn == d:\n",
        "            break\n",
        "\n",
        "        for n, w in graph[cn]:\n",
        "            if cw + w < dis[n]:\n",
        "                dis[n] = cw + w\n",
        "                p[n] = cn\n",
        "                heapq.heappush(pqueue, (dis[n], n))\n",
        "\n",
        "\n",
        "def adl(nn, ne):\n",
        "    adj_li = [[] for _ in range(nn + 1)]\n",
        "    start = list(map(int, input().split()))\n",
        "    end = list(map(int, input().split()))\n",
        "    wts = list(map(int, input().split()))\n",
        "\n",
        "    for i in range(len(start)):\n",
        "        adj_li[start[i]].append((end[i], wts[i]))\n",
        "\n",
        "    return adj_li\n",
        "\n",
        "\n",
        "def ReconstructPath(p, d):\n",
        "    path = []\n",
        "    c = d\n",
        "    while c != -1:\n",
        "        path.append(c)\n",
        "        c = p[c]\n",
        "    path.reverse()\n",
        "    return path\n",
        "\n",
        "nn, ne, s, d = map(int, input().split())\n",
        "graph = adl(nn, ne)\n",
        "dis = [float('inf')] * (nn + 1)\n",
        "p = [-1] * (nn + 1)\n",
        "\n",
        "dijkstra(graph, s, d)\n",
        "\n",
        "if dis[d] == float('inf'):\n",
        "    print(-1)\n",
        "else:\n",
        "    print(dis[d])\n",
        "    print(\" \".join(map(str, ReconstructPath(p, d))))"
      ]
    }
  ],
  "metadata": {
    "colab": {
      "provenance": []
    },
    "kernelspec": {
      "display_name": "Python 3",
      "name": "python3"
    },
    "language_info": {
      "name": "python"
    }
  },
  "nbformat": 4,
  "nbformat_minor": 0
}