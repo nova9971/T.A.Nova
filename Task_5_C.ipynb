{
  "cells": [
    {
      "cell_type": "code",
      "execution_count": 2,
      "metadata": {
        "colab": {
          "base_uri": "https://localhost:8080/"
        },
        "id": "HPhe-B6wYPNr",
        "outputId": "56a5da83-8b3f-43a4-ec44-fb7ddd8c51a0"
      },
      "outputs": [
        {
          "output_type": "stream",
          "name": "stdout",
          "text": [
            "5 10 5 3\n",
            "2 1 5 3 1 4 2 4 1 4\n",
            "5 5 4 5 2 2 3 1 3 3\n",
            "1\n",
            "5 3\n"
          ]
        }
      ],
      "source": [
        "from collections import deque\n",
        "def McQueen(N,M,S,D):\n",
        "  adjli = adl(N,M)\n",
        "  visited = [0]*(N+1)\n",
        "  par = [-1]*(N+1)\n",
        "  queue = deque([S])\n",
        "  visited[S]= 1\n",
        "  while queue:\n",
        "    v = queue.popleft()\n",
        "    if v == D:\n",
        "      break\n",
        "    for i in adjli[v]:\n",
        "      if visited[i] != 1:\n",
        "        visited[i] = 1\n",
        "        par[i] = v\n",
        "        queue.append(i)\n",
        "  if visited[D] != 1:\n",
        "    return -1\n",
        "  list1 = []\n",
        "  crnt = D\n",
        "  while crnt != -1:\n",
        "    list1.append(crnt)\n",
        "    crnt = par[crnt]\n",
        "  list1.reverse()\n",
        "  return list1\n",
        "def adl(N,M):\n",
        "  adjli = [[] for _ in range(N+1)]\n",
        "  s = list(map(int,input().split()))\n",
        "  e = list(map(int,input().split()))\n",
        "  for i in range(len(s)):\n",
        "    adjli[s[i]].append(e[i])\n",
        "    adjli[e[i]].append(s[i])\n",
        "  for i in adjli:\n",
        "    i.sort()\n",
        "  return adjli\n",
        "N,M,S,D= map(int,input().split())\n",
        "a= McQueen(N,M,S,D)\n",
        "if a != -1:\n",
        "  print(len(a)-1)\n",
        "  print(\" \".join(map(str,a)))\n",
        "else:\n",
        "  print(-1)"
      ]
    }
  ],
  "metadata": {
    "colab": {
      "provenance": []
    },
    "kernelspec": {
      "display_name": "Python 3",
      "name": "python3"
    },
    "language_info": {
      "name": "python"
    }
  },
  "nbformat": 4,
  "nbformat_minor": 0
}