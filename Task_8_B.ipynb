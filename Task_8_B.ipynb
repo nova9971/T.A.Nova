{
  "cells": [
    {
      "cell_type": "code",
      "execution_count": 26,
      "metadata": {
        "colab": {
          "base_uri": "https://localhost:8080/"
        },
        "id": "HPhe-B6wYPNr",
        "outputId": "b0296091-a579-4b77-8b77-63573e078446"
      },
      "outputs": [
        {
          "output_type": "stream",
          "name": "stdout",
          "text": [
            "2 1\n",
            "1 2 9\n",
            "9\n"
          ]
        }
      ],
      "source": [
        "def get_root(grp, n):\n",
        "    if grp[n] != n:\n",
        "        grp[n] = get_root(grp, grp[n])\n",
        "    return grp[n]\n",
        "\n",
        "def merge_groups(grp, d, na, nb):\n",
        "    a = get_root(grp, na)\n",
        "    b = get_root(grp, nb)\n",
        "\n",
        "    if a != b:\n",
        "        if d[a] < d[b]:\n",
        "            grp[a] = b\n",
        "        else:\n",
        "            grp[b] = a\n",
        "            if d[a] == d[b]:\n",
        "                d[a] += 1\n",
        "        return True\n",
        "    return False\n",
        "\n",
        "nodes, c = map(int, input().split())\n",
        "\n",
        "nwk = []\n",
        "for i in range(c):\n",
        "    p1, p2, cost = map(int, input().split())\n",
        "    nwk.append((cost, p1, p2))\n",
        "\n",
        "nwk.sort()\n",
        "\n",
        "group = [i for i in range(nodes + 1)]\n",
        "depth = [0] * (nodes + 1)\n",
        "\n",
        "min_cost = 0\n",
        "for cost, x, y in nwk:\n",
        "    if merge_groups(group, depth, x, y):\n",
        "        min_cost += cost\n",
        "\n",
        "print(min_cost)"
      ]
    }
  ],
  "metadata": {
    "colab": {
      "provenance": []
    },
    "kernelspec": {
      "display_name": "Python 3",
      "name": "python3"
    },
    "language_info": {
      "name": "python"
    }
  },
  "nbformat": 4,
  "nbformat_minor": 0
}