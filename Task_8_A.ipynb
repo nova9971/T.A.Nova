{
  "cells": [
    {
      "cell_type": "code",
      "execution_count": 25,
      "metadata": {
        "colab": {
          "base_uri": "https://localhost:8080/"
        },
        "id": "HPhe-B6wYPNr",
        "outputId": "48a30e8f-ebe6-4a75-929c-a32109d6d858"
      },
      "outputs": [
        {
          "output_type": "stream",
          "name": "stdout",
          "text": [
            "6 5\n",
            "4 6\n",
            "2\n",
            "2 6\n",
            "3\n",
            "1 6\n",
            "4\n",
            "1 4\n",
            "4\n",
            "1 2\n",
            "4\n"
          ]
        }
      ],
      "source": [
        "def find_leader(grp_ldr, m):\n",
        "    if grp_ldr[m] != m:\n",
        "        grp_ldr[m] = find_leader(grp_ldr, grp_ldr[m])\n",
        "    return grp_ldr[m]\n",
        "\n",
        "def merge_groups(grp_ldr, grp_size, m1, m2):\n",
        "    l1 = find_leader(grp_ldr, m1)\n",
        "    l2 = find_leader(grp_ldr, m2)\n",
        "\n",
        "    if l1 != l2:\n",
        "        if grp_size[l1] < grp_size[l2]:\n",
        "            l1, l2 = l2, l1\n",
        "        grp_ldr[l2] = l1\n",
        "        grp_size[l1] += grp_size[l2]\n",
        "\n",
        "    return grp_size[l1]\n",
        "\n",
        "e, p = map(int, input().split())\n",
        "\n",
        "grp_ldr = [i for i in range(e + 1)]\n",
        "grp_size = [1] * (e + 1)\n",
        "\n",
        "\n",
        "for _ in range(p):\n",
        "    e1, e2 = map(int, input().split())\n",
        "    print(merge_groups(grp_ldr, grp_size, e1, e2))\n"
      ]
    }
  ],
  "metadata": {
    "colab": {
      "provenance": []
    },
    "kernelspec": {
      "display_name": "Python 3",
      "name": "python3"
    },
    "language_info": {
      "name": "python"
    }
  },
  "nbformat": 4,
  "nbformat_minor": 0
}