{
  "nbformat": 4,
  "nbformat_minor": 0,
  "metadata": {
    "colab": {
      "provenance": []
    },
    "kernelspec": {
      "name": "python3",
      "display_name": "Python 3"
    },
    "language_info": {
      "name": "python"
    }
  },
  "cells": [
    {
      "cell_type": "code",
      "execution_count": 2,
      "metadata": {
        "colab": {
          "base_uri": "https://localhost:8080/"
        },
        "id": "HPhe-B6wYPNr",
        "outputId": "c8ac05cf-d75b-4c42-eab9-8fdb9ae68bea"
      },
      "outputs": [
        {
          "output_type": "stream",
          "name": "stdout",
          "text": [
            "15\n",
            "calculate 67 + 41\n",
            "108\n",
            "calculate 85 / 5\n",
            "17.0\n",
            "calculate 13 - 56\n",
            "-43\n",
            "calculate 99 - 95\n",
            "4\n",
            "calculate 3 / 10\n",
            "0.3\n",
            "calculate 12 * 19\n",
            "228\n",
            "calculate 14 - 6\n",
            "8\n",
            "calculate 3 * 88\n",
            "264\n",
            "calculate 45 * 68\n",
            "3060\n",
            "calculate 81 - 0\n",
            "81\n",
            "calculate 77 + 40\n",
            "117\n",
            "calculate 8 * 84\n",
            "672\n",
            "calculate 73 - 22\n",
            "51\n",
            "calculate 85 - 86\n",
            "-1\n",
            "calculate 28 * 58\n",
            "1624\n"
          ]
        }
      ],
      "source": [
        "inpt = int(input())\n",
        "for i in range(inpt):\n",
        "    cal = input().strip()\n",
        "    if cal.lower().startswith(\"calculate \"):\n",
        "        cal = cal[10:]\n",
        "    output = eval(cal)\n",
        "    print(f\"{output}\")"
      ]
    }
  ]
}