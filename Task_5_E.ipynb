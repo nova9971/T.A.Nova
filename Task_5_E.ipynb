{
  "cells": [
    {
      "cell_type": "code",
      "execution_count": 4,
      "metadata": {
        "colab": {
          "base_uri": "https://localhost:8080/"
        },
        "id": "HPhe-B6wYPNr",
        "outputId": "f2b7e510-e49f-45dd-8b90-642ce2c75dbb"
      },
      "outputs": [
        {
          "output_type": "stream",
          "name": "stdout",
          "text": [
            "6 5\n",
            "6 4\n",
            "6 3\n",
            "4 5\n",
            "6 2\n",
            "4 1\n",
            "No\n"
          ]
        }
      ],
      "source": [
        "import sys\n",
        "sys.setrecursionlimit(2*100000+5)\n",
        "\n",
        "def dfstraverse(nd,adjli,clr):\n",
        "  clr[nd] = 1\n",
        "  for x in adjli[nd]:\n",
        "    if clr[x] == 0:\n",
        "      if dfstraverse(x,adjli,clr) == True:\n",
        "        return True\n",
        "    elif clr[x] == 1:\n",
        "      return True\n",
        "\n",
        "  clr[nd] = 2\n",
        "  return False\n",
        "def adl(a,b):\n",
        "  adjli= [[] for i in range(a+1)]\n",
        "  for y in range (b):\n",
        "    start,end = map(int,input().split())\n",
        "    adjli[start].append(end)\n",
        "  for y in adjli:\n",
        "    y.sort()\n",
        "  return adjli\n",
        "a,b = map(int,input().split())\n",
        "adjli = adl(a,b)\n",
        "clr= [0]*(a+1)\n",
        "flag = False\n",
        "for z in range(1,a+1):\n",
        "  if clr[z] == 0:\n",
        "    if dfstraverse(z,adjli,clr) == True:\n",
        "      flag = True\n",
        "      break\n",
        "if flag == True:\n",
        "  print(\"Yes\")\n",
        "else:\n",
        "  print(\"No\")"
      ]
    }
  ],
  "metadata": {
    "colab": {
      "provenance": []
    },
    "kernelspec": {
      "display_name": "Python 3",
      "name": "python3"
    },
    "language_info": {
      "name": "python"
    }
  },
  "nbformat": 4,
  "nbformat_minor": 0
}