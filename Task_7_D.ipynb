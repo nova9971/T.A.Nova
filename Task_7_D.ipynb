{
  "cells": [
    {
      "cell_type": "code",
      "execution_count": 22,
      "metadata": {
        "colab": {
          "base_uri": "https://localhost:8080/"
        },
        "id": "HPhe-B6wYPNr",
        "outputId": "ca5d0ba9-54b3-4a39-8661-f0dc26714d6a"
      },
      "outputs": [
        {
          "output_type": "stream",
          "name": "stdout",
          "text": [
            "2 1 1 1\n",
            "7 6\n",
            "2 1\n",
            "7\n"
          ]
        }
      ],
      "source": [
        "import heapq\n",
        "\n",
        "def Path(adj_li, start, end, cost, dis):\n",
        "    pqueue = []\n",
        "    heapq.heappush(pqueue, (cost[start - 1], start))\n",
        "    dis[start] = cost[start - 1]\n",
        "\n",
        "    while pqueue:\n",
        "        ccost, cn = heapq.heappop(pqueue)\n",
        "\n",
        "        if cn == end:\n",
        "            break\n",
        "\n",
        "        for x in adj_li[cn]:\n",
        "            ncost = ccost + cost[x - 1]\n",
        "            if ncost < dis[x]:\n",
        "                dis[x] = ncost\n",
        "                heapq.heappush(pqueue, (dis[x], x))\n",
        "\n",
        "def adjl(n, e):\n",
        "    adj_li = [[] for i in range(n + 1)]\n",
        "    for y in range(e):\n",
        "        start, end = map(int, input().split())\n",
        "        adj_li[start].append(end)\n",
        "    return adj_li\n",
        "\n",
        "n, e, start, end = map(int, input().split())\n",
        "cost = list(map(int, input().split()))\n",
        "graph = adjl(n, e)\n",
        "dis = [float('inf')] * (n + 1)\n",
        "\n",
        "Path(graph, start, end, cost, dis)\n",
        "\n",
        "if dis[end] == float('inf'):\n",
        "    print(-1)\n",
        "else:\n",
        "    print(dis[end])\n"
      ]
    }
  ],
  "metadata": {
    "colab": {
      "provenance": []
    },
    "kernelspec": {
      "display_name": "Python 3",
      "name": "python3"
    },
    "language_info": {
      "name": "python"
    }
  },
  "nbformat": 4,
  "nbformat_minor": 0
}