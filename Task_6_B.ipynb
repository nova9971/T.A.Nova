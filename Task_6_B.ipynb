{
  "cells": [
    {
      "cell_type": "code",
      "execution_count": 7,
      "metadata": {
        "colab": {
          "base_uri": "https://localhost:8080/"
        },
        "id": "HPhe-B6wYPNr",
        "outputId": "8494ae13-7cc8-479d-a6fc-c57d62c4577a"
      },
      "outputs": [
        {
          "output_type": "stream",
          "name": "stdout",
          "text": [
            "4 1\n",
            "1 3\n",
            "3\n"
          ]
        }
      ],
      "source": [
        "from collections import deque\n",
        "\n",
        "def bfs_coloring(s, n, e):\n",
        "    queue = deque([s])\n",
        "    visited[s] = True\n",
        "    color[s] = 2\n",
        "    c1, c2 = 1, 0\n",
        "\n",
        "    while queue:\n",
        "        node = queue.popleft()\n",
        "\n",
        "        for x in adj_li[node]:\n",
        "            if not visited[x]:\n",
        "                visited[x] = True\n",
        "                queue.append(x)\n",
        "                if color[node] == 2:\n",
        "                    color[x] = 3\n",
        "                else:\n",
        "                    color[x] = 2\n",
        "\n",
        "                if color[x] == 2:\n",
        "                    c1 += 1\n",
        "                else:\n",
        "                    c2 += 1\n",
        "            else:\n",
        "                if color[x] == color[node]:\n",
        "                    continue\n",
        "\n",
        "    return c1, c2\n",
        "\n",
        "def build_adl(n, e):\n",
        "    adj = [[] for i in range(n + 1)]\n",
        "    for i in range(e):\n",
        "        start, end = map(int, input().split())\n",
        "        adj[start].append(end)\n",
        "        adj[end].append(start)\n",
        "    return adj\n",
        "\n",
        "def bipartite_graph(n, e):\n",
        "    total_node = 0\n",
        "    for y in range(1, n + 1):\n",
        "        if color[y] == 0:\n",
        "            cnt1, cnt2 = bfs_coloring(y, n, e)\n",
        "            total_node += max(cnt1, cnt2)\n",
        "    print(total_node)\n",
        "\n",
        "n, e = map(int, input().split())\n",
        "color = [0] * (n + 1)\n",
        "adj_li = build_adl(n, e)\n",
        "visited = [False] * (n + 1)\n",
        "a= bipartite_graph(n, e)"
      ]
    }
  ],
  "metadata": {
    "colab": {
      "provenance": []
    },
    "kernelspec": {
      "display_name": "Python 3",
      "name": "python3"
    },
    "language_info": {
      "name": "python"
    }
  },
  "nbformat": 4,
  "nbformat_minor": 0
}