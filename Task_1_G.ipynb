{
  "nbformat": 4,
  "nbformat_minor": 0,
  "metadata": {
    "colab": {
      "provenance": []
    },
    "kernelspec": {
      "name": "python3",
      "display_name": "Python 3"
    },
    "language_info": {
      "name": "python"
    }
  },
  "cells": [
    {
      "cell_type": "code",
      "execution_count": 7,
      "metadata": {
        "colab": {
          "base_uri": "https://localhost:8080/"
        },
        "id": "HPhe-B6wYPNr",
        "outputId": "a18385d0-9349-4565-8aff-9643aeaa7b22"
      },
      "outputs": [
        {
          "output_type": "stream",
          "name": "stdout",
          "text": [
            "8\n",
            "ABCD will departure for Mymensingh at 00:30\n",
            "DhumketuExpress will departure for Chittagong at 02:30\n",
            "ABC will departure for Dhaka at 17:30\n",
            "ABCD will departure for Chittagong at 01:00\n",
            "ABC will departure for Khulna at 03:00\n",
            "ABC will departure for Barisal at 03:00\n",
            "ABCE will departure for Sylhet at 23:05\n",
            "PadmaExpress will departure for Dhaka at 19:30\n",
            "ABC will departure for Dhaka at 17:30\n",
            "ABC will departure for Khulna at 03:00\n",
            "ABC will departure for Barisal at 03:00\n",
            "ABCD will departure for Chittagong at 01:00\n",
            "ABCD will departure for Mymensingh at 00:30\n",
            "ABCE will departure for Sylhet at 23:05\n",
            "DhumketuExpress will departure for Chittagong at 02:30\n",
            "PadmaExpress will departure for Dhaka at 19:30\n"
          ]
        }
      ],
      "source": [
        "def tm(time):\n",
        "    hh, mm = map(int, time.split(\":\"))\n",
        "    return ((hh*60) + mm)\n",
        "def gtrains1():\n",
        "    len12=int(input())\n",
        "    all_detail1=[]\n",
        "    for i in range(len12):\n",
        "        t = input().split(\" will departure for \")\n",
        "        nametr = t[0]\n",
        "        dt = t[1].split(\" at \")\n",
        "        destination1 = dt[0]\n",
        "        time = dt[1]\n",
        "        all_detail1.append([nametr,destination1,time])\n",
        "    for j in range(len(all_detail1)-1):\n",
        "        flag = False\n",
        "        for m in range(len(all_detail1)-j-1):\n",
        "            if all_detail1[m][0]>all_detail1[m+1][0]:\n",
        "                all_detail1[m],all_detail1[m+1]=all_detail1[m+1],all_detail1[m]\n",
        "                flag = True\n",
        "            elif all_detail1[m][0] == all_detail1[m+1][0]:\n",
        "                time11=tm(all_detail1[m][2])\n",
        "                time22 = tm(all_detail1[m+1][2])\n",
        "                if time11<time22:\n",
        "                    all_detail1[m] , all_detail1[m+1] = all_detail1[m+1] , all_detail1[m]\n",
        "                    flag = True\n",
        "\n",
        "        if flag != True:\n",
        "            break\n",
        "    for n in all_detail1:\n",
        "        print(f\"{n[0]} will departure for {n[1]} at {n[2]}\")\n",
        "gtrains1()"
      ]
    }
  ]
}