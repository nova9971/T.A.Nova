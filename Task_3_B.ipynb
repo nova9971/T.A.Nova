{
  "nbformat": 4,
  "nbformat_minor": 0,
  "metadata": {
    "colab": {
      "provenance": []
    },
    "kernelspec": {
      "name": "python3",
      "display_name": "Python 3"
    },
    "language_info": {
      "name": "python"
    }
  },
  "cells": [
    {
      "cell_type": "code",
      "execution_count": 7,
      "metadata": {
        "colab": {
          "base_uri": "https://localhost:8080/"
        },
        "id": "Ey_-eCGcMTXu",
        "outputId": "1f60a177-3484-4298-ce18-8ba20304a2d5"
      },
      "outputs": [
        {
          "output_type": "stream",
          "name": "stdout",
          "text": [
            "5\n",
            "4 3 1 5 6\n",
            "41\n"
          ]
        }
      ],
      "source": [
        "def MaxPairValue(arr):\n",
        "    n=len(arr)\n",
        "    max_x=float('-inf')\n",
        "    max_val=float('-inf')\n",
        "    for y in range(1, n):\n",
        "        max_x=max(max_x, arr[y - 1])\n",
        "        max_val = max(max_val, max_x + arr[y] ** 2)\n",
        "    return max_val\n",
        "n=int(input())\n",
        "arr=list(map(int, input().split()))\n",
        "print(MaxPairValue(arr))"
      ]
    }
  ]
}