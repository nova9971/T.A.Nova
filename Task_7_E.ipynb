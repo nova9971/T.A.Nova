{
  "cells": [
    {
      "cell_type": "code",
      "execution_count": 23,
      "metadata": {
        "colab": {
          "base_uri": "https://localhost:8080/"
        },
        "id": "HPhe-B6wYPNr",
        "outputId": "8b93a1e7-8670-40eb-df3b-45b4fd885f31"
      },
      "outputs": [
        {
          "output_type": "stream",
          "name": "stdout",
          "text": [
            "2 1\n",
            "2\n",
            "1\n",
            "7\n",
            "-1\n"
          ]
        }
      ],
      "source": [
        "import heapq\n",
        "\n",
        "def ParityEdges(graph, s, d):\n",
        "    dis = [[float('inf')] * (n + 1) for _ in range(2)]\n",
        "    pqueue = []\n",
        "    for ne, w in graph[s]:\n",
        "        p = w % 2\n",
        "        dis[p][ne] = w\n",
        "        heapq.heappush(pqueue, (w, ne, p))\n",
        "\n",
        "    while pqueue:\n",
        "        t, nd, p = heapq.heappop(pqueue)\n",
        "        for ne, w in graph[nd]:\n",
        "            pn = w % 2\n",
        "            if pn == p:\n",
        "                continue\n",
        "            cs = t + w\n",
        "            if cs < dis[pn][ne]:\n",
        "                dis[pn][ne] = cs\n",
        "                heapq.heappush(pqueue, (cs, ne, pn))\n",
        "\n",
        "    if dis[0][d]==float('inf')  and   dis[1][d] == float('inf'):\n",
        "        return -1\n",
        "    else:\n",
        "        if dis[0][d] < dis[1][d]:\n",
        "            idx = 0\n",
        "        else:\n",
        "            idx = 1\n",
        "        return dis[idx][d]\n",
        "\n",
        "\n",
        "def adl(n, m):\n",
        "    adj_li = [[] for _ in range(n + 1)]\n",
        "    start = list(map(int, input().split()))\n",
        "    end = list(map(int, input().split()))\n",
        "    w = list(map(int, input().split()))\n",
        "    for i in range(len(start)):\n",
        "        adj_li[start[i]].append((end[i], w[i]))\n",
        "    return adj_li\n",
        "\n",
        "n, m = map(int, input().split())\n",
        "s = 1\n",
        "d = n\n",
        "graph = adl(n, m)\n",
        "print(ParityEdges(graph, s, d))"
      ]
    }
  ],
  "metadata": {
    "colab": {
      "provenance": []
    },
    "kernelspec": {
      "display_name": "Python 3",
      "name": "python3"
    },
    "language_info": {
      "name": "python"
    }
  },
  "nbformat": 4,
  "nbformat_minor": 0
}