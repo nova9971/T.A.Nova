{
  "cells": [
    {
      "cell_type": "code",
      "execution_count": 24,
      "metadata": {
        "colab": {
          "base_uri": "https://localhost:8080/"
        },
        "id": "HPhe-B6wYPNr",
        "outputId": "1d8b4903-8a23-4006-ff1d-702a19d7a391"
      },
      "outputs": [
        {
          "output_type": "stream",
          "name": "stdout",
          "text": [
            "2 1 2 2\n",
            "2 1 5\n",
            "10\n"
          ]
        }
      ],
      "source": [
        "import heapq\n",
        "from collections import defaultdict\n",
        "\n",
        "def ShortestPathRevisited(N, M, S, D, e):\n",
        "    graph = defaultdict(list)\n",
        "\n",
        "    for x, y, z in e:\n",
        "        graph[x].append((y, z))\n",
        "        graph[y].append((x, z))\n",
        "\n",
        "    a = float('inf')\n",
        "    dis = [[a, a] for _ in range(N + 1)]\n",
        "    dis[S][0] = 0\n",
        "\n",
        "    pqueue = [(0, S)]\n",
        "\n",
        "    while pqueue:\n",
        "        d, x = heapq.heappop(pqueue)\n",
        "        if d > dis[x][1]:\n",
        "            continue\n",
        "        for y, z in graph[x]:\n",
        "            cost = d + z\n",
        "            if cost < dis[y][0]:\n",
        "                dis[y][1] = dis[y][0]\n",
        "                dis[y][0] = cost\n",
        "                heapq.heappush(pqueue, (cost, y))\n",
        "            elif dis[y][0] < cost < dis[y][1]:\n",
        "                dis[y][1] = cost\n",
        "                heapq.heappush(pqueue, (cost, y))\n",
        "\n",
        "    return dis[D][1] if dis[D][1] != a else -1\n",
        "N, M, S, D = map(int, input().split())\n",
        "e = []\n",
        "for _ in range(M):\n",
        "    x, y, z = map(int, input().split())\n",
        "    e.append((x, y, z))\n",
        "\n",
        "print(ShortestPathRevisited(N, M, S, D, e))"
      ]
    }
  ],
  "metadata": {
    "colab": {
      "provenance": []
    },
    "kernelspec": {
      "display_name": "Python 3",
      "name": "python3"
    },
    "language_info": {
      "name": "python"
    }
  },
  "nbformat": 4,
  "nbformat_minor": 0
}