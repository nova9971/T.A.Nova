{
  "nbformat": 4,
  "nbformat_minor": 0,
  "metadata": {
    "colab": {
      "provenance": []
    },
    "kernelspec": {
      "name": "python3",
      "display_name": "Python 3"
    },
    "language_info": {
      "name": "python"
    }
  },
  "cells": [
    {
      "cell_type": "code",
      "execution_count": 4,
      "metadata": {
        "colab": {
          "base_uri": "https://localhost:8080/"
        },
        "id": "HPhe-B6wYPNr",
        "outputId": "b39cc18a-16ef-4aec-8670-c3c2ad161d03"
      },
      "outputs": [
        {
          "output_type": "stream",
          "name": "stdout",
          "text": [
            "5\n",
            "2\n",
            "3\n",
            "5\n",
            "15\n",
            "10\n",
            "55\n",
            "12\n",
            "78\n",
            "100\n",
            "5050\n"
          ]
        }
      ],
      "source": [
        "inpt = int(input())\n",
        "for i in range(inpt):\n",
        "    n = int(input())\n",
        "    output = n*(n+1)//2\n",
        "    print(output)"
      ]
    }
  ]
}