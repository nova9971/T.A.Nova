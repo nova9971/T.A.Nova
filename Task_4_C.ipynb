{
  "nbformat": 4,
  "nbformat_minor": 0,
  "metadata": {
    "colab": {
      "provenance": []
    },
    "kernelspec": {
      "name": "python3",
      "display_name": "Python 3"
    },
    "language_info": {
      "name": "python"
    }
  },
  "cells": [
    {
      "cell_type": "code",
      "execution_count": 4,
      "metadata": {
        "colab": {
          "base_uri": "https://localhost:8080/"
        },
        "id": "Ey_-eCGcMTXu",
        "outputId": "453fb0b1-5856-46e2-a9c4-f05168868c18"
      },
      "outputs": [
        {
          "output_type": "stream",
          "name": "stdout",
          "text": [
            "5\n",
            "2 1 2\n",
            "1 0\n",
            "1 0\n",
            "1 4\n",
            "1 3\n",
            "0 1 1 0 0\n",
            "1 0 0 0 0\n",
            "1 0 0 0 0\n",
            "0 0 0 0 1\n",
            "0 0 0 1 0\n"
          ]
        }
      ],
      "source": [
        "m= int(input())\n",
        "adj = [[0] * m for k in range(m)]\n",
        "\n",
        "for i in range(m):\n",
        "    l = list(map(int, input().split()))\n",
        "    for n in l[1:]:\n",
        "        adj[i][n] = 1\n",
        "\n",
        "for rw in adj:\n",
        "    print(*rw)\n"
      ]
    }
  ]
}