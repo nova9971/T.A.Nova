{
  "nbformat": 4,
  "nbformat_minor": 0,
  "metadata": {
    "colab": {
      "provenance": []
    },
    "kernelspec": {
      "name": "python3",
      "display_name": "Python 3"
    },
    "language_info": {
      "name": "python"
    }
  },
  "cells": [
    {
      "cell_type": "code",
      "execution_count": 10,
      "metadata": {
        "colab": {
          "base_uri": "https://localhost:8080/"
        },
        "id": "Ey_-eCGcMTXu",
        "outputId": "c0af1c5f-15e3-4e5f-fa02-99f70af6f2c5"
      },
      "outputs": [
        {
          "output_type": "stream",
          "name": "stdout",
          "text": [
            "5\n",
            "1 2 3 4 5\n",
            "3 1 2 4 5\n"
          ]
        }
      ],
      "source": [
        "def OrderBinaryTree(arr):\n",
        "    def helper(start, end, rslt):\n",
        "        if start > end:\n",
        "            return\n",
        "        mid = (start + end) // 2\n",
        "        rslt.append(arr[mid])\n",
        "        helper(start, mid - 1, rslt)\n",
        "        helper(mid + 1, end, rslt)\n",
        "\n",
        "    rslt = []\n",
        "    helper(0, len(arr) - 1, rslt)\n",
        "    return rslt\n",
        "\n",
        "n = int(input())\n",
        "arr1 = list(map(int, input().split()))\n",
        "print(*OrderBinaryTree(arr1))\n"
      ]
    }
  ]
}