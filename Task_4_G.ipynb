{
  "nbformat": 4,
  "nbformat_minor": 0,
  "metadata": {
    "colab": {
      "provenance": []
    },
    "kernelspec": {
      "name": "python3",
      "display_name": "Python 3"
    },
    "language_info": {
      "name": "python"
    }
  },
  "cells": [
    {
      "cell_type": "code",
      "execution_count": 9,
      "metadata": {
        "colab": {
          "base_uri": "https://localhost:8080/"
        },
        "id": "Ey_-eCGcMTXu",
        "outputId": "f691f166-3911-4f55-84b5-a4b29bdcae67"
      },
      "outputs": [
        {
          "output_type": "stream",
          "name": "stdout",
          "text": [
            "5 6\n",
            "1 3\n",
            "4\n",
            "3 1\n",
            "1\n",
            "4 2\n",
            "3\n",
            "5 5\n",
            "-1\n",
            "3 4\n",
            "5\n",
            "5 2\n",
            "2\n"
          ]
        }
      ],
      "source": [
        "import math as m\n",
        "def coprime(n,q):\n",
        "    adl = [[] for _ in range(n)]\n",
        "    for i in range(1,n+1):\n",
        "        for j in range(1,n+1):\n",
        "            if i!=j:\n",
        "              if m.gcd(i,j) == 1:\n",
        "                  adl[i-1].append(j)\n",
        "    for _ in range(q):\n",
        "        a,b = map(int, input().split())\n",
        "        li = adl[a-1]\n",
        "        if b>len(li):\n",
        "            print(-1)\n",
        "        else:\n",
        "            print(li[b-1])\n",
        "\n",
        "\n",
        "\n",
        "\n",
        "n, q = map(int, input().split())\n",
        "coprime(n,q)"
      ]
    }
  ]
}