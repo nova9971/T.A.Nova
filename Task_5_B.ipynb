{
  "nbformat": 4,
  "nbformat_minor": 0,
  "metadata": {
    "colab": {
      "provenance": []
    },
    "kernelspec": {
      "name": "python3",
      "display_name": "Python 3"
    },
    "language_info": {
      "name": "python"
    }
  },
  "cells": [
    {
      "cell_type": "code",
      "execution_count": 9,
      "metadata": {
        "colab": {
          "base_uri": "https://localhost:8080/"
        },
        "id": "HPhe-B6wYPNr",
        "outputId": "14ab744a-11f7-440f-b64c-19e4e001cd6c"
      },
      "outputs": [
        {
          "output_type": "stream",
          "name": "stdout",
          "text": [
            "4 3\n",
            "1 3 1\n",
            "4 2 3\n",
            "1 3 2 4\n"
          ]
        }
      ],
      "source": [
        "import sys\n",
        "sys.setrecursionlimit(2*100000+5)\n",
        "\n",
        "def dfstraverse (node,adjlist,clr,final):\n",
        "  clr[node] = 1\n",
        "  final.append(node)\n",
        "  for i in adjlist[node]:\n",
        "    if clr[i] == 0:\n",
        "      dfstraverse(i,adjlist,clr,final)\n",
        "  clr[node] = 2\n",
        "\n",
        "def adlis(a,b):\n",
        "  adjlist = [[] for _ in range(a+1)]\n",
        "  be = list(map(int,input().split()))\n",
        "  fi = list(map(int,input().split()))\n",
        "  for i in range(len(be)):\n",
        "    adjlist[be[i]].append(fi[i])\n",
        "    adjlist[fi[i]].append(be[i])\n",
        "  for i in adjlist:\n",
        "    i.sort()\n",
        "  return adjlist\n",
        "\n",
        "a,b = map(int,input().split())\n",
        "adjlist = adlis(a,b)\n",
        "clr=[0]*(a+1)\n",
        "final = []\n",
        "dfstraverse(1,adjlist,clr,final)\n",
        "print(\" \".join(map(str,final)))"
      ]
    }
  ]
}