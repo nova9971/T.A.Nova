{
  "nbformat": 4,
  "nbformat_minor": 0,
  "metadata": {
    "colab": {
      "provenance": []
    },
    "kernelspec": {
      "name": "python3",
      "display_name": "Python 3"
    },
    "language_info": {
      "name": "python"
    }
  },
  "cells": [
    {
      "cell_type": "code",
      "execution_count": 5,
      "metadata": {
        "colab": {
          "base_uri": "https://localhost:8080/"
        },
        "id": "Ey_-eCGcMTXu",
        "outputId": "6e5a48d4-8570-474f-ee6d-360cd1733270"
      },
      "outputs": [
        {
          "output_type": "stream",
          "name": "stdout",
          "text": [
            "5 4\n",
            "1 4 3 2\n",
            "4 3 2 5\n",
            "YES\n"
          ]
        }
      ],
      "source": [
        "a, b = map(int, input().split())\n",
        "x = list(map(int, input().split()))\n",
        "y = list(map(int, input().split()))\n",
        "arr = [0] * (a + 1)\n",
        "for i in range(b):\n",
        "    arr[x[i]] += 1\n",
        "    arr[y[i]] += 1\n",
        "count_odd = 0\n",
        "for i in range(1, a + 1):\n",
        "    if arr[i] % 2 == 1:\n",
        "        count_odd += 1\n",
        "if count_odd == 0 or count_odd == 2:\n",
        "    print(\"YES\")\n",
        "else:\n",
        "    print(\"NO\")"
      ]
    }
  ]
}