{
  "nbformat": 4,
  "nbformat_minor": 0,
  "metadata": {
    "colab": {
      "provenance": []
    },
    "kernelspec": {
      "name": "python3",
      "display_name": "Python 3"
    },
    "language_info": {
      "name": "python"
    }
  },
  "cells": [
    {
      "cell_type": "code",
      "execution_count": 6,
      "metadata": {
        "colab": {
          "base_uri": "https://localhost:8080/"
        },
        "id": "HPhe-B6wYPNr",
        "outputId": "067c1ba9-e3a4-4db3-dea9-cab3a6463f56"
      },
      "outputs": [
        {
          "output_type": "stream",
          "name": "stdout",
          "text": [
            "7\n",
            "7 4 9 3 2 5 1\n",
            "40 50 50 20 10 10 10\n",
            "Minimum swaps: 4\n",
            "ID: 4 Mark: 50\n",
            "ID: 9 Mark: 50\n",
            "ID: 7 Mark: 40\n",
            "ID: 3 Mark: 20\n",
            "ID: 1 Mark: 10\n",
            "ID: 2 Mark: 10\n",
            "ID: 5 Mark: 10\n"
          ]
        }
      ],
      "source": [
        "def srtagain(arr,id):\n",
        "    swap = 0\n",
        "    for i in range(len(arr)):\n",
        "        maxidx = i\n",
        "        for j in range(i+1,len(arr)):\n",
        "            if arr[j]>arr[maxidx]:\n",
        "                maxidx=j\n",
        "            elif arr[j] == arr[maxidx]:\n",
        "                if id[j] < id[maxidx]:\n",
        "                    maxidx = j\n",
        "        if maxidx == i:\n",
        "          continue\n",
        "        else:\n",
        "          arr[i], arr[maxidx] = arr[maxidx],arr[i]\n",
        "          id[i], id[maxidx] = id[maxidx], id[i]\n",
        "          swap+=1\n",
        "    print(f\"Minimum swaps: {swap}\")\n",
        "    for i in range(len(id)):\n",
        "        print(f\"ID: {id[i]} Mark: {arr[i]}\")\n",
        "\n",
        "n = int(input())\n",
        "id = list(map(int, input().split()))\n",
        "arr= list(map(int, input().split()))\n",
        "srtagain(arr,id)"
      ]
    }
  ]
}