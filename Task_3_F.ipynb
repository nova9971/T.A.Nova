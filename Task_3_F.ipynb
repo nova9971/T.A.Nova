{
  "nbformat": 4,
  "nbformat_minor": 0,
  "metadata": {
    "colab": {
      "provenance": []
    },
    "kernelspec": {
      "name": "python3",
      "display_name": "Python 3"
    },
    "language_info": {
      "name": "python"
    }
  },
  "cells": [
    {
      "cell_type": "code",
      "execution_count": 11,
      "metadata": {
        "colab": {
          "base_uri": "https://localhost:8080/"
        },
        "id": "Ey_-eCGcMTXu",
        "outputId": "6b9a85e2-aa8b-4846-e140-c156ea8648d5"
      },
      "outputs": [
        {
          "output_type": "stream",
          "name": "stdout",
          "text": [
            "5\n",
            "4 2 5 1 3\n",
            "1 2 4 5 3\n",
            "4 5 2 3 1\n"
          ]
        }
      ],
      "source": [
        "def PostorderTraversal(start, end):\n",
        "    global idx_cntr\n",
        "    if start > end:\n",
        "        return\n",
        "\n",
        "    r_val = preorder_list[idx_cntr]\n",
        "    idx_cntr += 1\n",
        "    r_idx = inorder_map[r_val]\n",
        "\n",
        "    PostorderTraversal(start, r_idx - 1)\n",
        "    PostorderTraversal(r_idx + 1, end)\n",
        "    postorder_rslt.append(r_val)\n",
        "\n",
        "\n",
        "tree_size = int(input())\n",
        "inorder_list = list(map(int, input().split()))\n",
        "preorder_list = list(map(int, input().split()))\n",
        "\n",
        "inorder_map = {value: idx for idx, value in enumerate(inorder_list)}\n",
        "\n",
        "postorder_rslt = []\n",
        "idx_cntr = 0\n",
        "\n",
        "PostorderTraversal(0, len(inorder_list) - 1)\n",
        "\n",
        "print(*postorder_rslt)"
      ]
    }
  ]
}