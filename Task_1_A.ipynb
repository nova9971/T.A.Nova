{
  "nbformat": 4,
  "nbformat_minor": 0,
  "metadata": {
    "colab": {
      "provenance": []
    },
    "kernelspec": {
      "name": "python3",
      "display_name": "Python 3"
    },
    "language_info": {
      "name": "python"
    }
  },
  "cells": [
    {
      "cell_type": "code",
      "execution_count": 1,
      "metadata": {
        "colab": {
          "base_uri": "https://localhost:8080/"
        },
        "id": "HPhe-B6wYPNr",
        "outputId": "32151ff0-957f-48de-e206-ade9c784e2ca"
      },
      "outputs": [
        {
          "output_type": "stream",
          "name": "stdout",
          "text": [
            "5\n",
            "10\n",
            "10 is an Even number.\n",
            "19\n",
            "19 is an Odd number.\n",
            "7\n",
            "7 is an Odd number.\n",
            "3\n",
            "3 is an Odd number.\n",
            "100\n",
            "100 is an Even number.\n"
          ]
        }
      ],
      "source": [
        "var = int(input())\n",
        "for i in range (var):\n",
        "    var2 = int(input())\n",
        "    if var2 % 2 == 0:\n",
        "        print(f\"{var2} is an Even number.\")\n",
        "    else:\n",
        "        print(f\"{var2} is an Odd number.\")"
      ]
    }
  ]
}