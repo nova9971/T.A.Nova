{
  "nbformat": 4,
  "nbformat_minor": 0,
  "metadata": {
    "colab": {
      "provenance": []
    },
    "kernelspec": {
      "name": "python3",
      "display_name": "Python 3"
    },
    "language_info": {
      "name": "python"
    }
  },
  "cells": [
    {
      "cell_type": "code",
      "execution_count": 2,
      "metadata": {
        "colab": {
          "base_uri": "https://localhost:8080/"
        },
        "id": "Ey_-eCGcMTXu",
        "outputId": "f85ce2e9-0ae8-4e7b-c7fb-8ef4a6b29198"
      },
      "outputs": [
        {
          "output_type": "stream",
          "name": "stdout",
          "text": [
            "4 4\n",
            "3 3 2 4\n",
            "2 1 1 3\n",
            "9 5 8 10\n",
            "1: \n",
            "2: (1,8)\n",
            "3: (2,9) (1,5)\n",
            "4: (3,10)\n"
          ]
        }
      ],
      "source": [
        "a, b = map(int, input().split())\n",
        "x = list(map(int, input().split()))\n",
        "y = list(map(int, input().split()))\n",
        "z = list(map(int, input().split()))\n",
        "\n",
        "adj = [[] for k in range(a + 1)]\n",
        "\n",
        "for i in range(b):\n",
        "    adj[x[i]].append((y[i], z[i]))\n",
        "\n",
        "for i in range(1, a + 1):\n",
        "    cn = \" \".join(f\"({y},{wt})\" for y, wt in adj[i])\n",
        "    print(f\"{i}:\", cn)\n"
      ]
    }
  ]
}