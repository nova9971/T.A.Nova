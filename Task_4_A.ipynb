{
  "nbformat": 4,
  "nbformat_minor": 0,
  "metadata": {
    "colab": {
      "provenance": []
    },
    "kernelspec": {
      "name": "python3",
      "display_name": "Python 3"
    },
    "language_info": {
      "name": "python"
    }
  },
  "cells": [
    {
      "cell_type": "code",
      "execution_count": 1,
      "metadata": {
        "colab": {
          "base_uri": "https://localhost:8080/"
        },
        "id": "Ey_-eCGcMTXu",
        "outputId": "4c544e41-bd61-4b0e-e251-da565fa6fa32"
      },
      "outputs": [
        {
          "output_type": "stream",
          "name": "stdout",
          "text": [
            "4 3\n",
            "1 3 8\n",
            "3 2 5\n",
            "1 4 2\n",
            "0 0 8 2\n",
            "0 0 0 0\n",
            "0 5 0 0\n",
            "0 0 0 0\n"
          ]
        }
      ],
      "source": [
        "a, b = map(int, input().split())\n",
        "adj = [[0] * a for i in range(a)]\n",
        "\n",
        "for _ in range(b):\n",
        "    x, y, z = map(int, input().split())\n",
        "    adj[x-1][y-1] = z\n",
        "\n",
        "for rw in adj:\n",
        "    print(*rw)"
      ]
    }
  ]
}