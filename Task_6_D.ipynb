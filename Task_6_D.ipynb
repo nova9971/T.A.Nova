{
  "cells": [
    {
      "cell_type": "code",
      "execution_count": 17,
      "metadata": {
        "colab": {
          "base_uri": "https://localhost:8080/"
        },
        "id": "HPhe-B6wYPNr",
        "outputId": "896f260c-f8ad-46b0-fc39-e764c0ce4583"
      },
      "outputs": [
        {
          "output_type": "stream",
          "name": "stdout",
          "text": [
            "4 1\n",
            "3 1\n",
            "1 2\n",
            "4 2\n",
            "3\n",
            "1\n",
            "4\n",
            "4\n",
            "1\n",
            "2\n",
            "2\n"
          ]
        }
      ],
      "source": [
        "import sys\n",
        "sys.setrecursionlimit(2 * 100000 + 5)\n",
        "\n",
        "def subtree_sizes(node):\n",
        "    s = 1\n",
        "    clr[node] = 1\n",
        "\n",
        "    for x in adl[node]:\n",
        "        if clr[x] == 0:\n",
        "            subtree_sizes(x)\n",
        "            s += subtree[x]\n",
        "\n",
        "    subtree[node] = s\n",
        "    clr[node] = 2\n",
        "    return\n",
        "\n",
        "def build_adl(n, e):\n",
        "    adj = [[] for _ in range(n + 1)]\n",
        "    for _ in range(e):\n",
        "        start, end = map(int, input().split())\n",
        "        adj[start].append(end)\n",
        "        adj[end].append(start)\n",
        "    return adj\n",
        "\n",
        "\n",
        "n, root_node = map(int, input().split())\n",
        "adl = build_adl(n, n - 1)\n",
        "subtree = [0] * (n + 1)\n",
        "clr = [0] * (n + 1)\n",
        "\n",
        "subtree_sizes(root_node)\n",
        "\n",
        "q = int(input())\n",
        "for y in range(q):\n",
        "    p = int(input())\n",
        "    print(subtree[p])"
      ]
    }
  ],
  "metadata": {
    "colab": {
      "provenance": []
    },
    "kernelspec": {
      "display_name": "Python 3",
      "name": "python3"
    },
    "language_info": {
      "name": "python"
    }
  },
  "nbformat": 4,
  "nbformat_minor": 0
}