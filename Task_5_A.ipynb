{
  "nbformat": 4,
  "nbformat_minor": 0,
  "metadata": {
    "colab": {
      "provenance": []
    },
    "kernelspec": {
      "name": "python3",
      "display_name": "Python 3"
    },
    "language_info": {
      "name": "python"
    }
  },
  "cells": [
    {
      "cell_type": "code",
      "execution_count": 8,
      "metadata": {
        "colab": {
          "base_uri": "https://localhost:8080/"
        },
        "id": "HPhe-B6wYPNr",
        "outputId": "ce342f5c-65b3-4e1c-f0d4-1c268365818e"
      },
      "outputs": [
        {
          "output_type": "stream",
          "name": "stdout",
          "text": [
            "4 3\n",
            "1 4\n",
            "3 2\n",
            "1 3\n",
            "1 3 4 2\n"
          ]
        }
      ],
      "source": [
        "from collections import deque\n",
        "\n",
        "def BFS_Traverse(n, m, edg):\n",
        "    adj_li = [[] for _ in range(n + 1)]\n",
        "    for x, y in edg:\n",
        "        adj_li[x].append(y)\n",
        "        adj_li[y].append(x)\n",
        "    for i in adj_li:\n",
        "        i.sort()\n",
        "\n",
        "    visited = [False] * (n + 1)\n",
        "    final = []\n",
        "    queue = deque([1])\n",
        "    visited[1] = True\n",
        "\n",
        "    while queue:\n",
        "        node = queue.popleft()\n",
        "        final.append(node)\n",
        "\n",
        "        for neighbor in adj_li[node]:\n",
        "            if visited[neighbor]!=True:\n",
        "                visited[neighbor] = True\n",
        "                queue.append(neighbor)\n",
        "\n",
        "    return final\n",
        "\n",
        "n, m = map(int, input( ).split())\n",
        "edg = [tuple(map(int, input().split())) for _ in range(m)]\n",
        "\n",
        "final = BFS_Traverse(n, m, edg)\n",
        "print(' '.join(map(str, final)))\n"
      ]
    }
  ]
}