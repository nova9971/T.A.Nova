{
  "nbformat": 4,
  "nbformat_minor": 0,
  "metadata": {
    "colab": {
      "provenance": []
    },
    "kernelspec": {
      "name": "python3",
      "display_name": "Python 3"
    },
    "language_info": {
      "name": "python"
    }
  },
  "cells": [
    {
      "cell_type": "code",
      "execution_count": 3,
      "metadata": {
        "colab": {
          "base_uri": "https://localhost:8080/"
        },
        "id": "Ey_-eCGcMTXu",
        "outputId": "c7e061de-3653-4054-a0e5-b26831b71448"
      },
      "outputs": [
        {
          "output_type": "stream",
          "name": "stdout",
          "text": [
            "5 4\n",
            "4 1 2 1 5\n",
            "3\n"
          ]
        }
      ],
      "source": [
        "def MaxSubarrayLength(n, tr, arr):\n",
        "    left = 0\n",
        "    s1 = 0\n",
        "    max_len = 0\n",
        "\n",
        "    for right in range(n):\n",
        "        s1 += arr[right]\n",
        "        while s1 > tr:\n",
        "            s1 -= arr[left]\n",
        "            left += 1\n",
        "        max_len = max(max_len, right - left + 1)\n",
        "\n",
        "    print(max_len)\n",
        "\n",
        "n, k = map(int, input().split())\n",
        "arr = list(map(int, input().split()))\n",
        "MaxSubarrayLength(n, k, arr)"
      ]
    }
  ]
}