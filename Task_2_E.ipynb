{
  "nbformat": 4,
  "nbformat_minor": 0,
  "metadata": {
    "colab": {
      "provenance": []
    },
    "kernelspec": {
      "name": "python3",
      "display_name": "Python 3"
    },
    "language_info": {
      "name": "python"
    }
  },
  "cells": [
    {
      "cell_type": "code",
      "execution_count": 5,
      "metadata": {
        "colab": {
          "base_uri": "https://localhost:8080/"
        },
        "id": "Ey_-eCGcMTXu",
        "outputId": "09288261-8c06-46ac-8f84-94d9a53b8db0"
      },
      "outputs": [
        {
          "output_type": "stream",
          "name": "stdout",
          "text": [
            "5 3\n",
            "10 20 20 45 79\n",
            "20 50\n",
            "3\n",
            "5 45\n",
            "4\n",
            "1 100\n",
            "5\n"
          ]
        }
      ],
      "source": [
        "def count_in_range(arr, x, y):\n",
        "    def lower_bound(arr, tr):\n",
        "        low = 0\n",
        "        high = len(arr)\n",
        "        while low < high:\n",
        "            mid = (low + high) // 2\n",
        "            if arr[mid] < tr:\n",
        "                low = mid + 1\n",
        "            else:\n",
        "                high = mid\n",
        "        return low\n",
        "\n",
        "    def upper_bound(arr, tr):\n",
        "        low = 0\n",
        "        high = len(arr)\n",
        "        while low < high:\n",
        "            mid = (low + high) // 2\n",
        "            if arr[mid] <= tr:\n",
        "                low = mid + 1\n",
        "            else:\n",
        "                high = mid\n",
        "        return low\n",
        "\n",
        "    left = lower_bound(arr, x)\n",
        "    right = upper_bound(arr, y)\n",
        "    print(right - left)\n",
        "\n",
        "n, s = map(int, input().split())\n",
        "arr = list(map(int, input().split()))\n",
        "\n",
        "for i in range(s):\n",
        "    x, y = map(int, input().split())\n",
        "    count_in_range(arr, x, y)"
      ]
    }
  ]
}