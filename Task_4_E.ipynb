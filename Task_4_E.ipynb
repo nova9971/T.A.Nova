{
  "nbformat": 4,
  "nbformat_minor": 0,
  "metadata": {
    "colab": {
      "provenance": []
    },
    "kernelspec": {
      "name": "python3",
      "display_name": "Python 3"
    },
    "language_info": {
      "name": "python"
    }
  },
  "cells": [
    {
      "cell_type": "code",
      "execution_count": 6,
      "metadata": {
        "colab": {
          "base_uri": "https://localhost:8080/"
        },
        "id": "Ey_-eCGcMTXu",
        "outputId": "abd5d635-73c2-455c-c403-312a5c25d88f"
      },
      "outputs": [
        {
          "output_type": "stream",
          "name": "stdout",
          "text": [
            "5 4\n",
            "5 3 3 2\n",
            "1 1 2 4\n",
            "2 0 -2 1 -1\n"
          ]
        }
      ],
      "source": [
        "a, b = map(int, input().split())\n",
        "x = list(map(int, input().split()))\n",
        "y = list(map(int, input().split()))\n",
        "ind = [0] * (a + 1)\n",
        "outd = [0] * (a + 1)\n",
        "for i in range(b):\n",
        "    outd[x[i]] += 1\n",
        "    ind[y[i]] += 1\n",
        "r = []\n",
        "for i in range(1, a + 1):\n",
        "    r.append(str(ind[i] - outd[i]))\n",
        "print(\" \".join(r))"
      ]
    }
  ]
}